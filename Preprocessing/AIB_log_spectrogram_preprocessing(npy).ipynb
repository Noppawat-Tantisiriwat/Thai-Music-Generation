{
  "cells": [
    {
      "cell_type": "markdown",
      "metadata": {
        "id": "S_R3gLtDUKsl"
      },
      "source": [
        "# get .npy"
      ]
    },
    {
      "cell_type": "code",
      "execution_count": null,
      "metadata": {
        "id": "lLYO4rHyQBzD"
      },
      "outputs": [],
      "source": [
        "import os\n",
        "import pickle\n",
        "\n",
        "import librosa\n",
        "import numpy as np\n",
        "\n",
        "from tqdm.auto import tqdm"
      ]
    },
    {
      "cell_type": "code",
      "execution_count": null,
      "metadata": {
        "id": "-WgYGy8CQMnE"
      },
      "outputs": [],
      "source": [
        "class Loader:\n",
        "    \"\"\"Loader is responsible for loading an audio file.\"\"\"\n",
        "\n",
        "    def __init__(self, sample_rate, duration, mono):\n",
        "        self.sample_rate = sample_rate\n",
        "        self.duration = duration\n",
        "        self.mono = mono\n",
        "\n",
        "    def load(self, file_path):\n",
        "        signal = librosa.load(file_path,\n",
        "                              sr=self.sample_rate,\n",
        "                              duration=self.duration,\n",
        "                              mono=self.mono)[0]\n",
        "        return signal"
      ]
    },
    {
      "cell_type": "code",
      "execution_count": null,
      "metadata": {
        "id": "bFD89pN-QOeD"
      },
      "outputs": [],
      "source": [
        "class Padder:\n",
        "    \"\"\"Padder is responsible to apply padding to an array.\"\"\"\n",
        "\n",
        "    def __init__(self, mode=\"constant\"):\n",
        "        self.mode = mode\n",
        "\n",
        "    def left_pad(self, array, num_missing_items):\n",
        "        padded_array = np.pad(array,\n",
        "                              (num_missing_items, 0),\n",
        "                              mode=self.mode)\n",
        "        return padded_array\n",
        "\n",
        "    def right_pad(self, array, num_missing_items):\n",
        "        padded_array = np.pad(array,\n",
        "                              (0, num_missing_items),\n",
        "                              mode=self.mode)\n",
        "        return padded_array"
      ]
    },
    {
      "cell_type": "code",
      "execution_count": null,
      "metadata": {
        "id": "hHJDtXLoQQTn"
      },
      "outputs": [],
      "source": [
        "class LogSpectrogramExtractor:\n",
        "    \"\"\"LogSpectrogramExtractor extracts log spectrograms (in dB) from a\n",
        "    time-series signal.\n",
        "    \"\"\"\n",
        "\n",
        "    def __init__(self, frame_size, hop_length):\n",
        "        self.frame_size = frame_size\n",
        "        self.hop_length = hop_length\n",
        "\n",
        "    def extract(self, signal):\n",
        "        stft = librosa.stft(signal,\n",
        "                            n_fft=self.frame_size,\n",
        "                            hop_length=self.hop_length)[:-1]\n",
        "        spectrogram = np.abs(stft)\n",
        "        log_spectrogram = librosa.amplitude_to_db(spectrogram)\n",
        "        return log_spectrogram"
      ]
    },
    {
      "cell_type": "code",
      "execution_count": null,
      "metadata": {
        "id": "TskNRYGLQTss"
      },
      "outputs": [],
      "source": [
        "class MinMaxNormaliser:\n",
        "    \"\"\"MinMaxNormaliser applies min max normalisation to an array.\"\"\"\n",
        "\n",
        "    def __init__(self, min_val, max_val):\n",
        "        self.min = min_val\n",
        "        self.max = max_val\n",
        "\n",
        "    def normalise(self, array):\n",
        "        norm_array = (array - array.min()) / (array.max() - array.min())\n",
        "        norm_array = norm_array * (self.max - self.min) + self.min\n",
        "        return norm_array\n",
        "\n",
        "    def denormalise(self, norm_array, original_min, original_max):\n",
        "        array = (norm_array - self.min) / (self.max - self.min)\n",
        "        array = array * (original_max - original_min) + original_min\n",
        "        return array"
      ]
    },
    {
      "cell_type": "code",
      "execution_count": null,
      "metadata": {
        "id": "s6BR4cWkQVyy"
      },
      "outputs": [],
      "source": [
        "class Saver:\n",
        "    \"\"\"saver is responsible to save features, and the min max values.\"\"\"\n",
        "\n",
        "    def __init__(self, feature_save_dir, min_max_values_save_dir):\n",
        "        self.feature_save_dir = feature_save_dir\n",
        "        self.min_max_values_save_dir = min_max_values_save_dir\n",
        "\n",
        "    def save_feature(self, feature, file_path):\n",
        "        save_path = self._generate_save_path(file_path)\n",
        "        np.save(save_path, feature)\n",
        "        return save_path\n",
        "\n",
        "    def save_min_max_values(self, min_max_values):\n",
        "        save_path = os.path.join(self.min_max_values_save_dir,\n",
        "                                 \"min_max_values.pkl\")\n",
        "        self._save(min_max_values, save_path)\n",
        "\n",
        "    @staticmethod\n",
        "    def _save(data, save_path):\n",
        "        with open(save_path, \"wb\") as f:\n",
        "            pickle.dump(data, f)\n",
        "\n",
        "    def _generate_save_path(self, file_path):\n",
        "        file_name = os.path.split(file_path)[1]\n",
        "        save_path = os.path.join(self.feature_save_dir, file_name + \".npy\")\n",
        "        return save_path\n"
      ]
    },
    {
      "cell_type": "code",
      "execution_count": null,
      "metadata": {
        "id": "ljURCs88QZnd"
      },
      "outputs": [],
      "source": [
        "class PreprocessingPipeline:\n",
        "    \"\"\"PreprocessingPipeline processes audio files in a directory, applying\n",
        "    the following steps to each file:\n",
        "        1- load a file\n",
        "        2- pad the signal (if necessary)\n",
        "        3- extracting log spectrogram from signal\n",
        "        4- normalise spectrogram\n",
        "        5- save the normalised spectrogram\n",
        "\n",
        "    Storing the min max values for all the log spectrograms.\n",
        "    \"\"\"\n",
        "\n",
        "    def __init__(self):\n",
        "        self.padder = None\n",
        "        self.extractor = None\n",
        "        self.normaliser = None\n",
        "        self.saver = None\n",
        "        self.min_max_values = {}\n",
        "        self._loader = None\n",
        "        self._num_expected_samples = None\n",
        "\n",
        "    @property\n",
        "    def loader(self):\n",
        "        return self._loader\n",
        "\n",
        "    @loader.setter\n",
        "    def loader(self, loader):\n",
        "        self._loader = loader\n",
        "        self._num_expected_samples = int(loader.sample_rate * loader.duration)\n",
        "\n",
        "    def process(self, audio_files_dir):\n",
        "        for root, _, files in os.walk(audio_files_dir):\n",
        "            for file in tqdm(files):\n",
        "                file_path = os.path.join(root, file)\n",
        "                self._process_file(file_path)\n",
        "                # print(f\"Processed file {file_path}\")\n",
        "        self.saver.save_min_max_values(self.min_max_values)\n",
        "\n",
        "    def _process_file(self, file_path):\n",
        "        signal = self.loader.load(file_path)\n",
        "        if self._is_padding_necessary(signal):\n",
        "            signal = self._apply_padding(signal)\n",
        "        feature = self.extractor.extract(signal)\n",
        "        norm_feature = self.normaliser.normalise(feature)\n",
        "        save_path = self.saver.save_feature(norm_feature, file_path)\n",
        "        self._store_min_max_value(save_path, feature.min(), feature.max())\n",
        "\n",
        "    def _is_padding_necessary(self, signal):\n",
        "        if len(signal) < self._num_expected_samples:\n",
        "            return True\n",
        "        return False\n",
        "\n",
        "    def _apply_padding(self, signal):\n",
        "        num_missing_samples = self._num_expected_samples - len(signal)\n",
        "        padded_signal = self.padder.right_pad(signal, num_missing_samples)\n",
        "        return padded_signal\n",
        "\n",
        "    def _store_min_max_value(self, save_path, min_val, max_val):\n",
        "        self.min_max_values[save_path] = {\n",
        "            \"min\": min_val,\n",
        "            \"max\": max_val\n",
        "        }"
      ]
    },
    {
      "cell_type": "code",
      "execution_count": null,
      "metadata": {
        "colab": {
          "base_uri": "https://localhost:8080/"
        },
        "id": "WbawvREVQjom",
        "outputId": "3bf25840-56f7-427e-91b9-77869374eda3"
      },
      "outputs": [],
      "source": [
        "# preprocessing\r\n",
        "FRAME_SIZE = 512\r\n",
        "HOP_LENGTH = 256\r\n",
        "DURATION = 15.04 # magic number! 1292 -> 1296\r\n",
        "SAMPLE_RATE = 22050\r\n",
        "MONO = True\r\n",
        "\r\n",
        "ROOT = \"\"\r\n",
        "SPECTROGRAMS_SAVE_DIR = os.path.join(ROOT, \"spectrograms\")\r\n",
        "MIN_MAX_VALUES_SAVE_DIR = os.path.join(ROOT, \"MinMaxValue\")\r\n",
        "FILES_DIR = os.path.join(ROOT, \"data\")\r\n",
        "# instantiate all objectsslice_29_05_2021\r\n",
        "loader = Loader(SAMPLE_RATE, DURATION, MONO)\r\n",
        "padder = Padder()\r\n",
        "log_spectrogram_extractor = LogSpectrogramExtractor(FRAME_SIZE, HOP_LENGTH)\r\n",
        "min_max_normaliser = MinMaxNormaliser(0, 1)\r\n",
        "saver = Saver(SPECTROGRAMS_SAVE_DIR, MIN_MAX_VALUES_SAVE_DIR)\r\n",
        "\r\n",
        "preprocessing_pipeline = PreprocessingPipeline()\r\n",
        "preprocessing_pipeline.loader = loader\r\n",
        "preprocessing_pipeline.padder = padder\r\n",
        "preprocessing_pipeline.extractor = log_spectrogram_extractor\r\n",
        "preprocessing_pipeline.normaliser = min_max_normaliser\r\n",
        "preprocessing_pipeline.saver = saver\r\n",
        "\r\n",
        "preprocessing_pipeline.process(FILES_DIR)"
      ]
    },
    {
      "cell_type": "markdown",
      "metadata": {
        "id": "WOeTWOVFUPgL"
      },
      "source": [
        "# get tfrec"
      ]
    },
    {
      "cell_type": "code",
      "execution_count": null,
      "metadata": {
        "id": "HhzxjyaNrvkE"
      },
      "outputs": [],
      "source": [
        "import tensorflow as tf"
      ]
    },
    {
      "cell_type": "code",
      "execution_count": null,
      "metadata": {
        "id": "f6H0V33SUV41"
      },
      "outputs": [],
      "source": [
        "def _bytes_feature(value):\n",
        "    return tf.train.Feature(bytes_list=tf.train.BytesList(value=[value]))\n",
        "\n",
        "\n",
        "def _int64_feature(value):\n",
        "    return tf.train.Feature(int64_list=tf.train.Int64List(value=[value]))\n",
        "\n",
        "\n",
        "def _int64_array_feature(value):\n",
        "    return tf.train.Feature(int64_list=tf.train.Int64List(value=value))\n",
        "\n",
        "\n",
        "def _float32_array_feature(value):\n",
        "    return tf.train.Feature(float_list=tf.train.FloatList(value=value))"
      ]
    },
    {
      "cell_type": "code",
      "execution_count": null,
      "metadata": {
        "id": "1JDW6Yt6UXJ7"
      },
      "outputs": [],
      "source": [
        "def npy_preprocess(root,npy_path):\n",
        "  file_path = os.path.join(root, npy_path)\n",
        "  spectrogram = np.load(file_path)\n",
        "  frequencies, time_frame = spectrogram.shape\n",
        "  spectrogram = spectrogram.flatten()\n",
        "  record = tf.train.Example(features=tf.train.Features(feature={\n",
        "        'frequency': _int64_feature(frequencies),\n",
        "        'time': _int64_feature(time_frame),\n",
        "        'spectrograms':  _float32_array_feature(spectrogram),\n",
        "       \n",
        "    }))\n",
        "\n",
        "  return record"
      ]
    },
    {
      "cell_type": "code",
      "execution_count": null,
      "metadata": {
        "id": "ciJaj1RZrECH"
      },
      "outputs": [],
      "source": [
        "from tqdm.auto import tqdm"
      ]
    },
    {
      "cell_type": "code",
      "execution_count": null,
      "metadata": {
        "id": "cMpE6GdhUZmb"
      },
      "outputs": [],
      "source": [
        "def createTFRecord(tfrec_dir, npy_dir):\r\n",
        "    os.makedirs(tfrec_dir, exist_ok=True)\r\n",
        "\r\n",
        "    train_files = os.listdir(npy_dir)\r\n",
        "    with tf.io.TFRecordWriter(tfrec_dir , \"train.tfrecord\") as writer:\r\n",
        "        for npy_path in tqdm(train_files):\r\n",
        "            record = npy_preprocess(npy_dir,npy_path)\r\n",
        "            writer.write(record.SerializeToString())"
      ]
    },
    {
      "cell_type": "code",
      "execution_count": null,
      "metadata": {
        "colab": {
          "base_uri": "https://localhost:8080/",
          "height": 66,
          "referenced_widgets": [
            "63c7b8236ce2444fa5b5997baf77b4ee",
            "75dc739d1c6848c1b418bcf7a26c1a85",
            "84dee72809f34882b3d1aed293f4b56b",
            "68c0562bd44141e2b5c9506b5226f9e4",
            "77dc8906f81047d883943285b69abd4b",
            "29b54dc49d354626b96d133a5e959693",
            "bc8989eb15b140a38bcfa999aa20170d",
            "a10415c2637442dabfc0209cbc1fb3b7"
          ]
        },
        "id": "Jhm9qlzMUb9P",
        "outputId": "3e3b1977-27b5-4574-a9db-f25ba1496306"
      },
      "outputs": [],
      "source": [
        "createTFRecord(os.path.join(ROOT, \"tfrec\"), SPECTROGRAMS_SAVE_DIR)"
      ]
    },
    {
      "cell_type": "markdown",
      "metadata": {
        "id": "M9_TRIlOUhPL"
      },
      "source": [
        "# loading validation"
      ]
    },
    {
      "cell_type": "code",
      "execution_count": null,
      "metadata": {
        "id": "6htLlOX_Ukud"
      },
      "outputs": [],
      "source": [
        "def parse_function(example_proto):\n",
        "    features = {\n",
        "        'frequency': tf.io.FixedLenFeature([], tf.int64),\n",
        "        'time': tf.io.FixedLenFeature([], tf.int64),\n",
        "        'spectrograms': tf.io.FixedLenSequenceFeature([], tf.float32, allow_missing=True)\n",
        "    }\n",
        "    parsed_features = tf.io.parse_single_example(example_proto, features)\n",
        "\n",
        "    spectrogram = tf.reshape(parsed_features[\"spectrograms\"],\n",
        "                        [parsed_features[\"frequency\"], parsed_features['time']])\n",
        "    spectrogram = tf.transpose(spectrogram)\n",
        "    return spectrogram"
      ]
    },
    {
      "cell_type": "code",
      "execution_count": null,
      "metadata": {
        "id": "SfnO84OWUlcY"
      },
      "outputs": [],
      "source": [
        "def get_train_data(tfrec_path):\n",
        "    train_data = tf.data.TFRecordDataset(tfrec_path)\\\n",
        "        .shuffle(300)\\\n",
        "        .map(parse_function, num_parallel_calls=tf.data.experimental.AUTOTUNE)\\\n",
        "        .batch(16)\\\n",
        "        .prefetch(buffer_size=tf.data.experimental.AUTOTUNE)\n",
        "        \n",
        "\n",
        "    return train_data"
      ]
    },
    {
      "cell_type": "code",
      "execution_count": null,
      "metadata": {
        "id": "CrVJbiWrUowi"
      },
      "outputs": [],
      "source": [
        "tfrec_path = os.path.join(ROOT, \"tfrec/train.tfrecord\")\r\n",
        "train = get_train_data(tfrec_path)"
      ]
    },
    {
      "cell_type": "code",
      "execution_count": null,
      "metadata": {
        "colab": {
          "base_uri": "https://localhost:8080/"
        },
        "id": "GoKZKTX7tFhd",
        "outputId": "61ecd4d0-6cc5-4604-ab91-4e21c7cabaad"
      },
      "outputs": [],
      "source": [
        "for element in train:\n",
        "  if element.shape[1:] != (1296, 256):\n",
        "    print(element.shape)\n",
        "  else:\n",
        "    pass\n",
        "print(\"done!\")"
      ]
    },
    {
      "cell_type": "code",
      "execution_count": null,
      "metadata": {},
      "outputs": [],
      "source": []
    }
  ],
  "metadata": {
    "colab": {
      "machine_shape": "hm",
      "name": "AIB_log-spectrogram_preprocessing(npy).ipynb",
      "provenance": []
    },
    "interpreter": {
      "hash": "bfcd35d344bc854481fb8d4a9427264773bac828303ad70aa9e4db44e290c711"
    },
    "kernelspec": {
      "display_name": "Python 3.8.7 64-bit",
      "name": "python3"
    },
    "language_info": {
      "name": "python",
      "version": ""
    },
    "widgets": {
      "application/vnd.jupyter.widget-state+json": {
        "29b54dc49d354626b96d133a5e959693": {
          "model_module": "@jupyter-widgets/base",
          "model_name": "LayoutModel",
          "state": {
            "_model_module": "@jupyter-widgets/base",
            "_model_module_version": "1.2.0",
            "_model_name": "LayoutModel",
            "_view_count": null,
            "_view_module": "@jupyter-widgets/base",
            "_view_module_version": "1.2.0",
            "_view_name": "LayoutView",
            "align_content": null,
            "align_items": null,
            "align_self": null,
            "border": null,
            "bottom": null,
            "display": null,
            "flex": null,
            "flex_flow": null,
            "grid_area": null,
            "grid_auto_columns": null,
            "grid_auto_flow": null,
            "grid_auto_rows": null,
            "grid_column": null,
            "grid_gap": null,
            "grid_row": null,
            "grid_template_areas": null,
            "grid_template_columns": null,
            "grid_template_rows": null,
            "height": null,
            "justify_content": null,
            "justify_items": null,
            "left": null,
            "margin": null,
            "max_height": null,
            "max_width": null,
            "min_height": null,
            "min_width": null,
            "object_fit": null,
            "object_position": null,
            "order": null,
            "overflow": null,
            "overflow_x": null,
            "overflow_y": null,
            "padding": null,
            "right": null,
            "top": null,
            "visibility": null,
            "width": null
          }
        },
        "63c7b8236ce2444fa5b5997baf77b4ee": {
          "model_module": "@jupyter-widgets/controls",
          "model_name": "HBoxModel",
          "state": {
            "_dom_classes": [],
            "_model_module": "@jupyter-widgets/controls",
            "_model_module_version": "1.5.0",
            "_model_name": "HBoxModel",
            "_view_count": null,
            "_view_module": "@jupyter-widgets/controls",
            "_view_module_version": "1.5.0",
            "_view_name": "HBoxView",
            "box_style": "",
            "children": [
              "IPY_MODEL_84dee72809f34882b3d1aed293f4b56b",
              "IPY_MODEL_68c0562bd44141e2b5c9506b5226f9e4"
            ],
            "layout": "IPY_MODEL_75dc739d1c6848c1b418bcf7a26c1a85"
          }
        },
        "68c0562bd44141e2b5c9506b5226f9e4": {
          "model_module": "@jupyter-widgets/controls",
          "model_name": "HTMLModel",
          "state": {
            "_dom_classes": [],
            "_model_module": "@jupyter-widgets/controls",
            "_model_module_version": "1.5.0",
            "_model_name": "HTMLModel",
            "_view_count": null,
            "_view_module": "@jupyter-widgets/controls",
            "_view_module_version": "1.5.0",
            "_view_name": "HTMLView",
            "description": "",
            "description_tooltip": null,
            "layout": "IPY_MODEL_a10415c2637442dabfc0209cbc1fb3b7",
            "placeholder": "​",
            "style": "IPY_MODEL_bc8989eb15b140a38bcfa999aa20170d",
            "value": " 6077/6077 [12:52&lt;00:00,  7.87it/s]"
          }
        },
        "75dc739d1c6848c1b418bcf7a26c1a85": {
          "model_module": "@jupyter-widgets/base",
          "model_name": "LayoutModel",
          "state": {
            "_model_module": "@jupyter-widgets/base",
            "_model_module_version": "1.2.0",
            "_model_name": "LayoutModel",
            "_view_count": null,
            "_view_module": "@jupyter-widgets/base",
            "_view_module_version": "1.2.0",
            "_view_name": "LayoutView",
            "align_content": null,
            "align_items": null,
            "align_self": null,
            "border": null,
            "bottom": null,
            "display": null,
            "flex": null,
            "flex_flow": null,
            "grid_area": null,
            "grid_auto_columns": null,
            "grid_auto_flow": null,
            "grid_auto_rows": null,
            "grid_column": null,
            "grid_gap": null,
            "grid_row": null,
            "grid_template_areas": null,
            "grid_template_columns": null,
            "grid_template_rows": null,
            "height": null,
            "justify_content": null,
            "justify_items": null,
            "left": null,
            "margin": null,
            "max_height": null,
            "max_width": null,
            "min_height": null,
            "min_width": null,
            "object_fit": null,
            "object_position": null,
            "order": null,
            "overflow": null,
            "overflow_x": null,
            "overflow_y": null,
            "padding": null,
            "right": null,
            "top": null,
            "visibility": null,
            "width": null
          }
        },
        "77dc8906f81047d883943285b69abd4b": {
          "model_module": "@jupyter-widgets/controls",
          "model_name": "ProgressStyleModel",
          "state": {
            "_model_module": "@jupyter-widgets/controls",
            "_model_module_version": "1.5.0",
            "_model_name": "ProgressStyleModel",
            "_view_count": null,
            "_view_module": "@jupyter-widgets/base",
            "_view_module_version": "1.2.0",
            "_view_name": "StyleView",
            "bar_color": null,
            "description_width": "initial"
          }
        },
        "84dee72809f34882b3d1aed293f4b56b": {
          "model_module": "@jupyter-widgets/controls",
          "model_name": "FloatProgressModel",
          "state": {
            "_dom_classes": [],
            "_model_module": "@jupyter-widgets/controls",
            "_model_module_version": "1.5.0",
            "_model_name": "FloatProgressModel",
            "_view_count": null,
            "_view_module": "@jupyter-widgets/controls",
            "_view_module_version": "1.5.0",
            "_view_name": "ProgressView",
            "bar_style": "success",
            "description": "100%",
            "description_tooltip": null,
            "layout": "IPY_MODEL_29b54dc49d354626b96d133a5e959693",
            "max": 6077,
            "min": 0,
            "orientation": "horizontal",
            "style": "IPY_MODEL_77dc8906f81047d883943285b69abd4b",
            "value": 6077
          }
        },
        "a10415c2637442dabfc0209cbc1fb3b7": {
          "model_module": "@jupyter-widgets/base",
          "model_name": "LayoutModel",
          "state": {
            "_model_module": "@jupyter-widgets/base",
            "_model_module_version": "1.2.0",
            "_model_name": "LayoutModel",
            "_view_count": null,
            "_view_module": "@jupyter-widgets/base",
            "_view_module_version": "1.2.0",
            "_view_name": "LayoutView",
            "align_content": null,
            "align_items": null,
            "align_self": null,
            "border": null,
            "bottom": null,
            "display": null,
            "flex": null,
            "flex_flow": null,
            "grid_area": null,
            "grid_auto_columns": null,
            "grid_auto_flow": null,
            "grid_auto_rows": null,
            "grid_column": null,
            "grid_gap": null,
            "grid_row": null,
            "grid_template_areas": null,
            "grid_template_columns": null,
            "grid_template_rows": null,
            "height": null,
            "justify_content": null,
            "justify_items": null,
            "left": null,
            "margin": null,
            "max_height": null,
            "max_width": null,
            "min_height": null,
            "min_width": null,
            "object_fit": null,
            "object_position": null,
            "order": null,
            "overflow": null,
            "overflow_x": null,
            "overflow_y": null,
            "padding": null,
            "right": null,
            "top": null,
            "visibility": null,
            "width": null
          }
        },
        "bc8989eb15b140a38bcfa999aa20170d": {
          "model_module": "@jupyter-widgets/controls",
          "model_name": "DescriptionStyleModel",
          "state": {
            "_model_module": "@jupyter-widgets/controls",
            "_model_module_version": "1.5.0",
            "_model_name": "DescriptionStyleModel",
            "_view_count": null,
            "_view_module": "@jupyter-widgets/base",
            "_view_module_version": "1.2.0",
            "_view_name": "StyleView",
            "description_width": ""
          }
        }
      }
    }
  },
  "nbformat": 4,
  "nbformat_minor": 0
}