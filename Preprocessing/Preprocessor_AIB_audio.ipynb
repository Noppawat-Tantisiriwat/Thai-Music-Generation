{
 "cells": [
  {
   "cell_type": "code",
   "execution_count": 16,
   "metadata": {},
   "outputs": [],
   "source": [
    "# import libs\r\n",
    "import os\r\n",
    "import shutil\r\n",
    "import librosa\r\n",
    "import numpy as np\r\n",
    "import pandas as pd\r\n",
    "import librosa.display\r\n",
    "import soundfile as sf\r\n",
    "from tqdm.auto import tqdm\r\n",
    "import seaborn as sns\r\n",
    "import matplotlib.pyplot as plt"
   ]
  },
  {
   "cell_type": "code",
   "execution_count": 2,
   "metadata": {},
   "outputs": [],
   "source": [
    "class EDA:\n",
    "  \n",
    "  def __init__(self, directory, sr=22050):\n",
    "    self.directory = directory\n",
    "    self.wav_name = os.listdir(directory)\n",
    "    self.count = len(self.wav_name)\n",
    "    self.file_duration = []\n",
    "    for filename in tqdm(self.wav_name):\n",
    "      signal, sr = librosa.load(os.path.join(self.directory,filename))\n",
    "      duration = librosa.get_duration(signal, sr=sr) / 60\n",
    "      self.file_duration.append(duration)\n",
    "    self.df = pd.DataFrame(\n",
    "        {\"wav\": self.wav_name, \"duration(min)\": self.file_duration},\n",
    "        index=[index + 1 for index in range(self.count)]\n",
    "        )\n",
    "    \n",
    "  def _summarize(self):\n",
    "    return self.df[[\"duration(min)\"]].describe()\n",
    "\n",
    "  def _total_duration(self):\n",
    "    hours = self.df[\"duration(min)\"].sum() / 60\n",
    "    return \"total dataset duration: {} hours\".format(str(hours))\n",
    "\n",
    "  def _boxplot(self):\n",
    "    sns.set_style(\"darkgrid\")\n",
    "    sns.set_palette(\"husl\")\n",
    "    fig, ax = plt.subplots()\n",
    "    ax.set_title(\"Length\")\n",
    "    sns.boxplot(x=self.df[\"duration(min)\"], ax=ax)\n",
    "    plt.xticks(rotation=45)\n",
    "    plt.show()\n",
    "  \n",
    "  def _violinplot(self):\n",
    "    sns.set_style(\"whitegrid\")\n",
    "    sns.set_palette(\"husl\")\n",
    "    fig, ax = plt.subplots()\n",
    "    ax.set_title(\"Length\")\n",
    "    sns.violinplot(x=self.df[\"duration(min)\"], ax=ax)\n",
    "    plt.xticks(rotation=45)\n",
    "    plt.show()\n",
    "  "
   ]
  },
  {
   "cell_type": "code",
   "execution_count": 3,
   "metadata": {},
   "outputs": [],
   "source": [
    "class Converter:\n",
    "  def __init__(self, directory, file_type):\n",
    "    self.directory = directory\n",
    "    self.file_list = os.listdir(self.directory)\n",
    "    self.file_type = file_type\n",
    "\n",
    "  def convert(self, processed_directory):\n",
    "    os.mkdir(processed_directory)\n",
    "    for file_ in tqdm(self.file_list):\n",
    "      file = os.path.join(self.directory, file_)\n",
    "      newname = file[:-4] + self.file_type\n",
    "      os.system(\"ffmpeg -i {} -ac 1 -ar 22050 {}\".format(file, newname))\n",
    "      shutil.move(newname, processed_directory)"
   ]
  },
  {
   "cell_type": "code",
   "execution_count": 4,
   "metadata": {},
   "outputs": [],
   "source": [
    "class Preprocesser(EDA):\r\n",
    "\r\n",
    "  def __init__(self, directory, sr=22050):\r\n",
    "    super().__init__(directory, sr=22050)\r\n",
    "    self.shortest = self.df[self.df[\"duration(min)\"] == self.df[\"duration(min)\"].min()].values[0][1]\r\n",
    "    self.min_sample = self.shortest * 60 * sr\r\n",
    "  \r\n",
    "  def trim(self, processed_directory, sr=22050, threshold=20):\r\n",
    "    os.mkdir(str(processed_directory))\r\n",
    "    for filename in tqdm(self.wav_name):\r\n",
    "      new_filename = \"trimed_{}.wav\".format(filename[:-4])\r\n",
    "      signal, sr = librosa.load(os.path.join(self.directory,filename), sr=sr)\r\n",
    "      trimed, index = librosa.effects.trim(signal, top_db=threshold)\r\n",
    "      sf.write(os.path.join(self.directory, new_filename), trimed, samplerate=sr)\r\n",
    "      shutil.move(os.path.join(self.directory, new_filename) , os.path.join(processed_directory, new_filename))\r\n",
    "  \r\n",
    "  \r\n",
    "  def slice_audio(self, processed_directory, sr=22050, duration=15):\r\n",
    "    os.mkdir(str(processed_directory))\r\n",
    "    for filename in tqdm(self.wav_name):\r\n",
    "      signal, sr = librosa.load(os.path.join(self.directory, filename), sr=22050)\r\n",
    "      cut_duration = sr * duration\r\n",
    "      cut_time = np.ceil(len(signal) / cut_duration)\r\n",
    "      \r\n",
    "      for i in range(1, int(cut_time + 1)):\r\n",
    "        new_filename = f\"{filename[:-4]}__{i}.{filename[-3:]}\"\r\n",
    "        start = (i - 1) * cut_duration\r\n",
    "        stop = i * cut_duration\r\n",
    "        signal_cut = signal[start: stop]\r\n",
    "        sf.write(os.path.join(self.directory, new_filename), data=signal_cut,samplerate=sr)\r\n",
    "        shutil.move(os.path.join(self.directory, new_filename), os.path.join(processed_directory, new_filename))"
   ]
  },
  {
   "cell_type": "code",
   "execution_count": 5,
   "metadata": {},
   "outputs": [],
   "source": [
    "root = \"\""
   ]
  },
  {
   "cell_type": "code",
   "execution_count": 7,
   "metadata": {},
   "outputs": [],
   "source": [
    "converter = Converter(os.path.join(root, \"Raw_final\"), \".wav\")"
   ]
  },
  {
   "cell_type": "code",
   "execution_count": 10,
   "metadata": {},
   "outputs": [
    {
     "name": "stderr",
     "output_type": "stream",
     "text": [
      "100%|██████████| 328/328 [40:52<00:00,  7.48s/it]\n"
     ]
    }
   ],
   "source": [
    "converter.convert(os.path.join(root, \"Converted_to_wav\"))"
   ]
  },
  {
   "cell_type": "code",
   "execution_count": 11,
   "metadata": {},
   "outputs": [
    {
     "name": "stderr",
     "output_type": "stream",
     "text": [
      "100%|██████████| 328/328 [11:53<00:00,  2.17s/it]\n"
     ]
    }
   ],
   "source": [
    "preprocesser = Preprocesser(os.path.join(root, \"Converted_to_wav\"))"
   ]
  },
  {
   "cell_type": "code",
   "execution_count": 12,
   "metadata": {},
   "outputs": [
    {
     "data": {
      "text/plain": [
       "'total dataset duration: 50.976620332577475 hours'"
      ]
     },
     "execution_count": 12,
     "metadata": {},
     "output_type": "execute_result"
    }
   ],
   "source": [
    "preprocesser._total_duration()"
   ]
  },
  {
   "cell_type": "code",
   "execution_count": 17,
   "metadata": {},
   "outputs": [
    {
     "data": {
      "image/png": "[encoded data removed]",
      "text/plain": [
       "<Figure size 432x288 with 1 Axes>"
      ]
     },
     "metadata": {},
     "output_type": "display_data"
    }
   ],
   "source": [
    "preprocesser._violinplot()"
   ]
  },
  {
   "cell_type": "code",
   "execution_count": 18,
   "metadata": {},
   "outputs": [
    {
     "data": {
      "image/png": "[encoded data removed]",
      "text/plain": [
       "<Figure size 432x288 with 1 Axes>"
      ]
     },
     "metadata": {},
     "output_type": "display_data"
    }
   ],
   "source": [
    "preprocesser._boxplot()"
   ]
  },
  {
   "cell_type": "code",
   "execution_count": 20,
   "metadata": {},
   "outputs": [
    {
     "name": "stderr",
     "output_type": "stream",
     "text": [
      "100%|██████████| 328/328 [1:14:11<00:00, 13.57s/it]\n"
     ]
    }
   ],
   "source": [
    "preprocesser.trim(os.path.join(root, \"trimed_final\")) "
   ]
  },
  {
   "cell_type": "code",
   "execution_count": 21,
   "metadata": {},
   "outputs": [
    {
     "name": "stderr",
     "output_type": "stream",
     "text": [
      "100%|██████████| 328/328 [13:35<00:00,  2.49s/it]\n"
     ]
    }
   ],
   "source": [
    "preprocesser = Preprocesser(os.path.join(root, \"trimed_final\"))"
   ]
  },
  {
   "cell_type": "code",
   "execution_count": 22,
   "metadata": {},
   "outputs": [
    {
     "data": {
      "text/plain": [
       "'total dataset duration: 50.584193474426804 hours'"
      ]
     },
     "execution_count": 22,
     "metadata": {},
     "output_type": "execute_result"
    }
   ],
   "source": [
    "preprocesser._total_duration()"
   ]
  },
  {
   "cell_type": "code",
   "execution_count": 23,
   "metadata": {},
   "outputs": [
    {
     "name": "stderr",
     "output_type": "stream",
     "text": [
      "100%|██████████| 328/328 [42:43<00:00,  7.82s/it]\n"
     ]
    }
   ],
   "source": [
    "preprocesser.slice_audio(os.path.join(root, \"sliced_final\"))"
   ]
  },
  {
   "cell_type": "code",
   "execution_count": null,
   "metadata": {},
   "outputs": [],
   "source": []
  }
 ],
 "metadata": {
  "interpreter": {
   "hash": "bfcd35d344bc854481fb8d4a9427264773bac828303ad70aa9e4db44e290c711"
  },
  "kernelspec": {
   "display_name": "Python 3.8.7 64-bit",
   "name": "python3"
  },
  "language_info": {
   "name": "python",
   "version": ""
  },
  "orig_nbformat": 2
 },
 "nbformat": 4,
 "nbformat_minor": 2
}