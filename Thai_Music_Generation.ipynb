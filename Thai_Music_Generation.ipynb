{
  "nbformat": 4,
  "nbformat_minor": 0,
  "metadata": {
    "colab": {
      "name": "Thai-Music-Generation.ipynb",
      "provenance": [],
      "authorship_tag": "ABX9TyPYYuMJueLCI5CFfgsVqGXG",
      "include_colab_link": true
    },
    "kernelspec": {
      "name": "python3",
      "display_name": "Python 3"
    },
    "language_info": {
      "name": "python"
    }
  },
  "cells": [
    {
      "cell_type": "markdown",
      "metadata": {
        "id": "view-in-github",
        "colab_type": "text"
      },
      "source": [
        "<a href=\"https://colab.research.google.com/github/Noppawat-Tantisiriwat/Thai-Music-Generation/blob/main/Thai_Music_Generation.ipynb\" target=\"_parent\"><img src=\"https://colab.research.google.com/assets/colab-badge.svg\" alt=\"Open In Colab\"/></a>"
      ]
    },
    {
      "cell_type": "markdown",
      "metadata": {
        "id": "zRoIiLr6AZv7"
      },
      "source": [
        "# แต่งเพลงไทยด้วยปัญญาประดิษฐ์\n",
        "โดย นายนภวัต ตันติศิริวัฒน์ โรงเรียนเตรียมอุดมศึกษา\n",
        "\n",
        "## ก่อนเริ่มแต่งเพลง กรุณารันเซลล์นี้ก่อนเพื่อเป็นการตั้งค่าระบบให้พร้อมใช้งาน"
      ]
    },
    {
      "cell_type": "code",
      "metadata": {
        "id": "d1oizdxvEeRQ"
      },
      "source": [
        "! pip install googledrivedownloader\n",
        "\n",
        "from google_drive_downloader import GoogleDriveDownloader as gdd\n",
        "model_1 = \"1yF6MPZpW23rvICCHo9Tht7QVrwpTVzKK\"\n",
        "model_2 = \"1D6J5O-Bz0tSapaEgO_iXa2S2MjzBaS4p\"\n",
        "model_3 = \"1RNtRNTWWej4d_PV9VZyuiYzQid4-ynPP\"\n",
        "\n",
        "gdd.download_file_from_google_drive(file_id=model_1,\n",
        "                                    dest_path=\"./โมเดลที่1\",\n",
        "                                    unzip=True\n",
        "                                    )\n",
        "gdd.download_file_from_google_drive(file_id=model_2,\n",
        "                                    dest_path=\"./โมเดลที่2\",\n",
        "                                    unzip=True\n",
        "                                    )\n",
        "gdd.download_file_from_google_drive(file_id=model_3,\n",
        "                                    dest_path=\"./โมเดลที่3\",\n",
        "                                    unzip=True\n",
        "                                    )"
      ],
      "execution_count": null,
      "outputs": []
    },
    {
      "cell_type": "code",
      "metadata": {
        "id": "9d8ZIvbZQuhJ"
      },
      "source": [
        "min_max = \"1_8N2NgRCUTI3vOCGhM-XFN-IOFDPRCGI\"\n",
        "gdd.download_file_from_google_drive(file_id=min_max,\n",
        "                                    dest_path=\"./min_max_values.pkl\"\n",
        "                                    )"
      ],
      "execution_count": null,
      "outputs": []
    },
    {
      "cell_type": "code",
      "metadata": {
        "id": "ZaQOXct6PFBD"
      },
      "source": [
        "generate = \"1AJFPJ1ljUBBPO96RqfUksFhsaJstt9Nk\"\n",
        "gdd.download_file_from_google_drive(file_id=generate,\n",
        "                                    dest_path=\"./generate.py\"\n",
        "                                    )"
      ],
      "execution_count": null,
      "outputs": []
    },
    {
      "cell_type": "markdown",
      "metadata": {
        "id": "kw5Wn-ZpA0yE"
      },
      "source": [
        "# เรามาลองแต่งเสียงเพลงกันเถอะ\n",
        "\n",
        "**วิธีการใช้งาน**\n",
        "\n",
        "๑.   กด \"เพลย์\" ที่เซลล์ด้านล่าง เพื่อกรอกข้อมูล <br/>\n",
        "๒.   ใส่จำนวนไฟล์ที่ต้องการจะสร้าง <br/>\n",
        "๓.   ใส่โมเดลที่ต้องการใช้<br/>\n",
        "๔.   ใส่ชื่อโฟลเดอร์ที่ต้องการใส่ไฟล์เพลงที่แต่ง<br/>\n",
        "\n",
        "\n",
        "\n",
        "---\n",
        "\n",
        "\n",
        "\n",
        "ตัวอย่างวิธีการใช้\n",
        "\n",
        "\n",
        "\n",
        "```\n",
        "files_generated =  {จำนวนเพลงที่ต้องการสร้าง} \n",
        "model = {โมเดลที่ต้องการใช้ : model_1, model_2, หรือ model_3}\n",
        "directory = {ชื่อโฟลเดอร์ที่ต้องการเก็บไฟล์เพลง} \n",
        "```\n",
        "\n",
        "เช่น\n",
        "\n",
        "```\n",
        "files_generated =  200\n",
        "model = model_3\n",
        "directory = ดนตรีไทย \n",
        "```\n",
        "\n",
        "\n"
      ]
    },
    {
      "cell_type": "code",
      "metadata": {
        "id": "iLdOVFOxD33I"
      },
      "source": [
        "files_generated = input(\"จำนวนเพลงที่ต้องการสร้าง : \")\n",
        "model = input(\"โมเดลที่ต้องการเลือกใช้ (เลือกจาก model_1, model_2, หรือ model_3) : \" )\n",
        "directory = input(\"ชื่อโฟลเดอร์ที่ต้องการเก็บไฟล์เพลง :\")"
      ],
      "execution_count": null,
      "outputs": []
    },
    {
      "cell_type": "markdown",
      "metadata": {
        "id": "u47UcCbrGwnb"
      },
      "source": [
        "### กด \"เพลย์\" เพื่อแต่งเพลง"
      ]
    },
    {
      "cell_type": "code",
      "metadata": {
        "id": "HjRAMEHoA_3V"
      },
      "source": [
        "import os\n",
        "os.system(f\"python generate.py -n {files_generated} -m {model} -o {directory}\")"
      ],
      "execution_count": null,
      "outputs": []
    },
    {
      "cell_type": "markdown",
      "metadata": {
        "id": "7hq6367nDnMG"
      },
      "source": [
        "# ดาวน์โหลดไฟล์เพลง\n",
        "\n",
        "กดปุ่ม \"เพลย์\" ด้านล่างนี้อีกครั้งเพื่อทำการดาวน์โหลด"
      ]
    },
    {
      "cell_type": "code",
      "metadata": {
        "id": "Q9Dcb0PnJ-I3"
      },
      "source": [
        "os.system(f\"tar -czvf {directory + '.tar.gz'} {directory}\" )"
      ],
      "execution_count": null,
      "outputs": []
    },
    {
      "cell_type": "code",
      "metadata": {
        "id": "slnhuw7pKvNm"
      },
      "source": [
        "from google.colab import files\n",
        "files.download(directory+\".tar.gz\")"
      ],
      "execution_count": null,
      "outputs": []
    }
  ]
}